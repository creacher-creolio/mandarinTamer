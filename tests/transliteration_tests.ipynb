{
 "cells": [
  {
   "cell_type": "code",
   "execution_count": 1,
   "metadata": {},
   "outputs": [],
   "source": [
    "from mandarin_tamer.mandarin_tamer import convert_mandarin_script"
   ]
  },
  {
   "cell_type": "code",
   "execution_count": 2,
   "metadata": {},
   "outputs": [],
   "source": [
    "def test_custom_transliteration_t2s(original_text, expected_text):\n",
    "    result = convert_mandarin_script(original_text)\n",
    "    if result != expected_text:\n",
    "        print(f\"'{original_text}' TRANSLITERATES TO '{result}' INSTEAD OF '{expected_text}'\")"
   ]
  },
  {
   "cell_type": "code",
   "execution_count": 3,
   "metadata": {},
   "outputs": [],
   "source": [
    "test_cases_t2s = []\n",
    "\n",
    "test_cases_to_simp = [\n",
    "    (\"你在干什麼啊？\", \"你在干什么啊？\"),\n",
    "    (\"我该去睡觉了。\", \"我该去睡觉了。\"),\n",
    "    (\"我以前在山里。\", \"我以前在山里。\"),\n",
    "    (\"那是一张近照吗？\", \"那是一张近照吗？\"),\n",
    "    (\"也许我会马上放弃然后去打盹。\", \"也许我会马上放弃然后去打盹。\"),\n",
    "    (\"我会尽量不打扰你复习。\", \"我会尽量不打扰你复习。\"),\n",
    "    (\"我不能这样活着。\", \"我不能这样活着。\"),\n",
    "    (\"可惜这是真的。\", \"可惜这是真的。\"),\n",
    "    (\"你肯定吗？\", \"你肯定吗？\"),\n",
    "    (\"我会不高兴，但我不会自杀。\", \"我会不高兴，但我不会自杀。\"),\n",
    "    (\"我不知道它是从哪里来的。\", \"我不知道它是从哪里来的。\"),\n",
    "    (\"我們試試看！\", \"我们试试看！\"),\n",
    "    (\"這是什麼啊？\", \"这是什么啊？\"),\n",
    "    (\"我很快就會回來。\", \"我很快就会回来。\"),\n",
    "    (\"我不知道應該說什麼才好。\", \"我不知道应该说什么才好。\"),\n",
    "    (\"這個永遠完不了了。\", \"这个永远完不了了。\"),\n",
    "    (\"我只是不知道應該說什麼而已……\", \"我只是不知道应该说什么而已……\"),\n",
    "    (\"那是一隻有惡意的兔子。\", \"那是一只有恶意的兔子。\"),\n",
    "    (\"我不知道我有沒有時間。\", \"我不知道我有没有时间。\"),\n",
    "    (\"剛才我的麥克風沒起作用，不知道為什麼。\", \"刚才我的麦克风没起作用，不知道为什么。\"),\n",
    "    (\"到了最後，大家一定要靠自己學習。\", \"到了最后，大家一定要靠自己学习。\"),\n",
    "]\n",
    "\n",
    "\n",
    "test_cases = test_cases_t2s + test_cases_to_simp\n",
    "\n",
    "for original_text, expected_text in test_cases:\n",
    "    test_custom_transliteration_t2s(original_text, expected_text)"
   ]
  },
  {
   "cell_type": "code",
   "execution_count": 4,
   "metadata": {},
   "outputs": [],
   "source": [
    "def test_custom_transliteration_s2t(original_text, expected_text, ner_list=None):\n",
    "    if ner_list is None:\n",
    "        ner_list = []\n",
    "    result = convert_mandarin_script(original_text, \"zh_tw\", ner_list=ner_list)\n",
    "    if result != expected_text:\n",
    "        print(f\"'{original_text}' TRANSLITERATES TO '{result}' INSTEAD OF '{expected_text}'\")"
   ]
  },
  {
   "cell_type": "code",
   "execution_count": 5,
   "metadata": {},
   "outputs": [],
   "source": [
    "test_cases_s2t = [\n",
    "    (\"你说什麼？\", \"你說什麼？\"),\n",
    "    (\"幺妹呢？\", \"么妹呢？\"),\n",
    "    (\"他是老幺。\", \"他是老么。\"),\n",
    "    (\"这是什么？\", \"這是什麼？\"),\n",
    "    (\"么零\", \"么零\"),\n",
    "]\n",
    "\n",
    "test_cases_to_trad = [\n",
    "    (\"你在干什麼啊？\", \"你在幹什麼啊？\"),\n",
    "    (\"我该去睡觉了。\", \"我該去睡覺了。\"),\n",
    "    (\"我以前在山里。\", \"我以前在山裡。\"),\n",
    "    (\"那是一张近照吗？\", \"那是一張近照嗎？\"),\n",
    "    (\"也许我会马上放弃然后去打盹。\", \"也許我會馬上放棄然後去打盹。\"),\n",
    "    (\"我会尽量不打扰你复习。\", \"我會盡量不打擾你復習。\"),\n",
    "    (\"我不能这样活着。\", \"我不能這樣活著。\"),\n",
    "    (\"可惜这是真的。\", \"可惜這是真的。\"),\n",
    "    (\"你肯定吗？\", \"你肯定嗎？\"),\n",
    "    (\"我会不高兴，但我不会自杀。\", \"我會不高興，但我不會自殺。\"),\n",
    "    (\"我不知道它是从哪里来的。\", \"我不知道它是從哪裡來的。\"),\n",
    "    (\"我們試試看！\", \"我們試試看！\"),\n",
    "    (\"這是什麼啊？\", \"這是什麼啊？\"),\n",
    "    (\"我很快就會回來。\", \"我很快就會回來。\"),\n",
    "    (\"我不知道應該說什麼才好。\", \"我不知道應該說什麼纔好。\"),\n",
    "    (\"這個永遠完不了了。\", \"這個永遠完不了了。\"),\n",
    "    (\"我只是不知道應該說什麼而已……\", \"我只是不知道應該說什麼而已……\"),\n",
    "    (\"那是一隻有惡意的兔子。\", \"那是一隻有惡意的兔子。\"),\n",
    "    (\"我不知道我有沒有時間。\", \"我不知道我有沒有時間。\"),\n",
    "    (\"剛才我的麥克風沒起作用，不知道為什麼。\", \"剛才我的麥克風沒起作用，不知道為什麼。\"),\n",
    "    (\"到了最後，大家一定要靠自己學習。\", \"到了最後，大家一定要靠自己學習。\"),\n",
    "]\n",
    "\n",
    "test_cases_s2t = test_cases_s2t + test_cases_to_trad\n",
    "\n",
    "for original_text, expected_text in test_cases_s2t:\n",
    "    test_custom_transliteration_s2t(original_text, expected_text)"
   ]
  },
  {
   "cell_type": "code",
   "execution_count": 6,
   "metadata": {},
   "outputs": [],
   "source": [
    "test_cases_to_trad = [\n",
    "    (\"这是什么？\", \"這是什么？\"),\n",
    "]\n",
    "\n",
    "\n",
    "for original_text, expected_text in test_cases_to_trad:\n",
    "    test_custom_transliteration_s2t(original_text, expected_text, ner_list=[\"是什么\"])"
   ]
  },
  {
   "cell_type": "code",
   "execution_count": 7,
   "metadata": {},
   "outputs": [],
   "source": [
    "def test_custom_transliteration_s2t_custom_dicts(original_text, expected_text):\n",
    "    traditionalize_one_to_many_include = {\"么\": [\"麼\", \"么\"]}\n",
    "    include_dicts = {}\n",
    "    include_dicts[\"traditionalize_one_to_many\"] = traditionalize_one_to_many_include\n",
    "    result = convert_mandarin_script(original_text, \"zh_tw\", improved_one_to_many=True, include_dicts=include_dicts)\n",
    "    # result = convert_mandarin_script(original_text, \"zh_tw\", include_dicts=include_dicts)\n",
    "    if result != expected_text:\n",
    "        print(f\"'{original_text}' TRANSLITERATES TO '{result}' INSTEAD OF '{expected_text}'\")"
   ]
  },
  {
   "cell_type": "code",
   "execution_count": 8,
   "metadata": {},
   "outputs": [],
   "source": [
    "test_cases_s2t = [\n",
    "    (\"么零\", \"么零\"),\n",
    "]\n",
    "\n",
    "for original_text, expected_text in test_cases_s2t:\n",
    "    test_custom_transliteration_s2t_custom_dicts(original_text, expected_text)"
   ]
  }
 ],
 "metadata": {
  "kernelspec": {
   "display_name": "venv",
   "language": "python",
   "name": "python3"
  },
  "language_info": {
   "codemirror_mode": {
    "name": "ipython",
    "version": 3
   },
   "file_extension": ".py",
   "mimetype": "text/x-python",
   "name": "python",
   "nbconvert_exporter": "python",
   "pygments_lexer": "ipython3",
   "version": "3.11.0"
  }
 },
 "nbformat": 4,
 "nbformat_minor": 2
}
