{
 "cells": [
  {
   "cell_type": "code",
   "execution_count": 1,
   "metadata": {},
   "outputs": [],
   "source": [
    "import time\n",
    "from pathlib import Path\n",
    "\n",
    "import pandas as pd\n",
    "\n",
    "from mandarin_tamer.mandarin_tamer import convert_mandarin_script"
   ]
  },
  {
   "cell_type": "code",
   "execution_count": 2,
   "metadata": {},
   "outputs": [],
   "source": [
    "def convert_csv_sentences(input_file: str, output_dir: str, target_script: str = \"zh_cn\") -> None:\n",
    "    \"\"\"Convert sentences in a CSV file from one script to another and back, with time tracking.\"\"\"\n",
    "    start_time = time.time()\n",
    "\n",
    "    # Read the input CSV file\n",
    "    df = pd.read_csv(input_file)\n",
    "    row_count = len(df)\n",
    "\n",
    "    # Get the opposite script for reconversion\n",
    "    opposite_script = \"zh_tw\" if target_script == \"zh_cn\" else \"zh_cn\"\n",
    "\n",
    "    # Track conversion times for each row\n",
    "    row_times = []\n",
    "\n",
    "    # Function to time individual row conversion\n",
    "    def timed_convert(text, target):\n",
    "        row_start = time.time()\n",
    "        result = convert_mandarin_script(text, target_script=target)\n",
    "        row_times.append(time.time() - row_start)\n",
    "        return result\n",
    "\n",
    "    # Convert sentences to target script and then back\n",
    "    df[\"converted_sentence\"] = df.iloc[:, 0].apply(lambda x: timed_convert(x, target_script))\n",
    "    df[\"reconverted_sentence\"] = df[\"converted_sentence\"].apply(\n",
    "        lambda x: convert_mandarin_script(x, target_script=opposite_script)\n",
    "    )\n",
    "\n",
    "    # Check if the reconverted sentence is the same as the original sentence\n",
    "    df[\"same_as_original\"] = df[\"reconverted_sentence\"] == df.iloc[:, 0]\n",
    "\n",
    "    # Create output filename\n",
    "    input_path = Path(input_file)\n",
    "    output_file = Path(output_dir) / f\"tested_{input_path.name}\"\n",
    "\n",
    "    # Save to new CSV file\n",
    "    # Create output directory if it doesn't exist\n",
    "    Path(output_dir).mkdir(parents=True, exist_ok=True)\n",
    "    df.to_csv(output_file, index=False)\n",
    "\n",
    "    # Calculate time metrics\n",
    "    total_time = time.time() - start_time\n",
    "    avg_time_per_row = sum(row_times) / len(row_times) if row_times else 0\n",
    "\n",
    "    # Print results with time metrics\n",
    "    print(f\"Conversion complete. Output saved to: {output_file}\")\n",
    "    print(f\"Processed {row_count} rows in {total_time:.2f} seconds\")\n",
    "    print(f\"Average conversion time per row: {avg_time_per_row * 1000:.2f} ms\")"
   ]
  },
  {
   "cell_type": "code",
   "execution_count": 3,
   "metadata": {},
   "outputs": [
    {
     "name": "stdout",
     "output_type": "stream",
     "text": [
      "Conversion complete. Output saved to: output\\tested_trad_tatoeba_sentences_sample.csv\n"
     ]
    }
   ],
   "source": [
    "input_csv = \"sentence_csvs/trad_tatoeba_sentences_sample.csv\"\n",
    "convert_csv_sentences(input_csv, output_dir=\"output\", target_script=\"zh_cn\")"
   ]
  }
 ],
 "metadata": {
  "kernelspec": {
   "display_name": "venv",
   "language": "python",
   "name": "python3"
  },
  "language_info": {
   "codemirror_mode": {
    "name": "ipython",
    "version": 3
   },
   "file_extension": ".py",
   "mimetype": "text/x-python",
   "name": "python",
   "nbconvert_exporter": "python",
   "pygments_lexer": "ipython3",
   "version": "3.11.0"
  }
 },
 "nbformat": 4,
 "nbformat_minor": 2
}
