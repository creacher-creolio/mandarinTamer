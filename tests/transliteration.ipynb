{
 "cells": [
  {
   "cell_type": "code",
   "execution_count": 1,
   "metadata": {},
   "outputs": [],
   "source": [
    "from mandarin_tamer.mandarin_tamer import convert_mandarin_script"
   ]
  },
  {
   "cell_type": "code",
   "execution_count": 2,
   "metadata": {},
   "outputs": [],
   "source": [
    "original_sentence = \"我喜歡這裏。\""
   ]
  },
  {
   "cell_type": "code",
   "execution_count": 3,
   "metadata": {},
   "outputs": [],
   "source": [
    "# transliterated_sentence = custom_transliteration(original_sentence)\n",
    "transliterated_sentence = convert_mandarin_script(original_sentence, target_script=\"zh_tw\")"
   ]
  },
  {
   "cell_type": "code",
   "execution_count": 4,
   "metadata": {},
   "outputs": [
    {
     "name": "stdout",
     "output_type": "stream",
     "text": [
      "我喜歡這裏。 original_sentence: \n",
      "　　　　裏　\n",
      "　　　　裡　\n",
      "我喜歡這裡。 transliterated_sentence: \n"
     ]
    }
   ],
   "source": [
    "print(original_sentence, \"original_sentence: \")\n",
    "for o_char, t_char in zip(original_sentence, transliterated_sentence, strict=False):\n",
    "    if o_char == t_char:\n",
    "        print(\"　\", end=\"\")\n",
    "    else:\n",
    "        print(o_char, end=\"\")\n",
    "print()\n",
    "for o_char, t_char in zip(original_sentence, transliterated_sentence, strict=False):\n",
    "    if o_char == t_char:\n",
    "        print(\"　\", end=\"\")\n",
    "    else:\n",
    "        print(t_char, end=\"\")\n",
    "print()\n",
    "print(transliterated_sentence, \"transliterated_sentence: \")"
   ]
  }
 ],
 "metadata": {
  "kernelspec": {
   "display_name": "venv",
   "language": "python",
   "name": "python3"
  },
  "language_info": {
   "codemirror_mode": {
    "name": "ipython",
    "version": 3
   },
   "file_extension": ".py",
   "mimetype": "text/x-python",
   "name": "python",
   "nbconvert_exporter": "python",
   "pygments_lexer": "ipython3",
   "version": "3.11.0"
  }
 },
 "nbformat": 4,
 "nbformat_minor": 2
}
